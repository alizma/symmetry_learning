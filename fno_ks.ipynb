{
 "cells": [
  {
   "cell_type": "code",
   "execution_count": 1,
   "metadata": {},
   "outputs": [],
   "source": [
    "%matplotlib inline\n",
    "import numpy as np\n",
    "import matplotlib.pyplot as plt\n",
    "import scipy.signal\n",
    "import torch\n",
    "import torch.nn.functional as F\n",
    "import matplotlib.ticker as plticker\n",
    "import time\n",
    "from mpl_toolkits.axes_grid1 import make_axes_locatable\n",
    "from tqdm import tqdm\n",
    "from collections import defaultdict\n",
    "from typing import Optional\n",
    "from scipy.integrate import solve_ivp\n",
    "from scipy.fftpack import diff as psdiff"
   ]
  },
  {
   "cell_type": "code",
   "execution_count": 5,
   "metadata": {},
   "outputs": [],
   "source": [
    "def generate_params() -> (int, np.ndarray, np.ndarray, np.ndarray):\n",
    "    \"\"\"\n",
    "    Returns parameters for initial conditions.\n",
    "    Args:\n",
    "        None\n",
    "    Returns:\n",
    "        int: number of Fourier series terms\n",
    "        np.ndarray: amplitude of different sine waves\n",
    "        np.ndarray: phase shift of different sine waves\n",
    "        np.ndarray: frequency of different sine waves\n",
    "    \"\"\"\n",
    "    N = 10\n",
    "    lmin, lmax = 1, 3\n",
    "    A = (np.random.rand(1, N) - 0.5)\n",
    "    phi = 2.0*np.pi*np.random.rand(1, N)\n",
    "    l = np.random.randint(lmin, lmax, (1, N))\n",
    "    return (N, A, phi, l)\n",
    "\n",
    "def initial_conditions(x: np.ndarray, L: int, params: Optional[list]=None) -> np.ndarray:\n",
    "    \"\"\"\n",
    "    Return initial conditions based on initial parameters.\n",
    "    Args:\n",
    "        x (np.ndarray): input array of spatial grid\n",
    "        L (float): length of the spatial domain\n",
    "        params (Optinal[list]): input parameters for generating initial conditions\n",
    "    Returns:\n",
    "        np.ndarray: initial condition\n",
    "    \"\"\"\n",
    "    if params is None:\n",
    "        params = generate_params()\n",
    "    N, A, phi, l = params   \n",
    "    u = np.sum(A * np.sin((2 * np.pi * l * x[:, None] / L ) + phi), -1)\n",
    "    return u"
   ]
  },
  {
   "cell_type": "code",
   "execution_count": 6,
   "metadata": {},
   "outputs": [
    {
     "name": "stdout",
     "output_type": "stream",
     "text": [
      "On interval [0.0, 24.0] \n"
     ]
    },
    {
     "name": "stderr",
     "output_type": "stream",
     "text": [
      "/home/ai/miniconda3/envs/pytorch/lib/python3.9/site-packages/torch/functional.py:504: UserWarning: torch.meshgrid: in an upcoming release, it will be required to pass the indexing argument. (Triggered internally at /opt/conda/conda-bld/pytorch_1682343964576/work/aten/src/ATen/native/TensorShape.cpp:3483.)\n",
      "  return _VF.meshgrid(tensors, **kwargs)  # type: ignore[attr-defined]\n"
     ]
    }
   ],
   "source": [
    "def ks_pseudospectral_reconstruction(t: float, u: np.ndarray, L: float) -> np.ndarray:\n",
    "        \"\"\"\n",
    "        Pseudospectral reconstruction of the spatial derivatives of the KS equation, discretized in x.\n",
    "        Args:\n",
    "            t (float): time point\n",
    "            u (np.ndarray): 1D input field\n",
    "            L (float): length of the spatial domain\n",
    "        Returns:\n",
    "            np.ndarray: reconstructed pseudospectral time derivative\n",
    "        \"\"\"\n",
    "        # Compute the x derivatives using the pseudo-spectral method.\n",
    "        ux = psdiff(u, period=L)\n",
    "        uxx = psdiff(u, period=L, order=2)\n",
    "        uxxxx = psdiff(u, period=L, order=4)\n",
    "        # Compute du/dt.\n",
    "        dudt = - u*ux - uxx - uxxxx\n",
    "        return dudt\n",
    "\n",
    "def to_coords(x: torch.Tensor, t: torch.Tensor) -> torch.Tensor:\n",
    "    \"\"\"\n",
    "    Transforms the coordinates to a tensor X of shape [time, space, 2].\n",
    "    Args:\n",
    "        x: spatial coordinates\n",
    "        t: temporal coordinates\n",
    "    Returns:\n",
    "        torch.Tensor: X[..., 0] is the space coordinate (in 2D)\n",
    "                      X[..., 1] is the time coordinate (in 2D)\n",
    "    \"\"\"\n",
    "    x_, t_ = torch.meshgrid(x, t)\n",
    "    x_, t_ = x_.T, t_.T\n",
    "    return torch.stack((x_, t_), -1)\n",
    "\n",
    "L = 25 #64 #128\n",
    "N = 25 #64 #2**7\n",
    "x = np.linspace(0, (1-1.0/N)*L, N)\n",
    "print(f\"On interval [{x.min()}, {x.max()}] \")\n",
    "# Set the tolerance of the solver\n",
    "tol = 1e-6\n",
    "\n",
    "# Set the initial conditions.\n",
    "u0 = initial_conditions(x, L)\n",
    "\n",
    "# Set the time sample grid.\n",
    "T = 25 # 100.\n",
    "t = np.linspace(0, T, T)\n",
    "X = to_coords(torch.tensor(x), torch.tensor(t))\n",
    "\n",
    "# Compute the solution using kdv_pseudospectral as spatial solver\n",
    "sol_example = solve_ivp(fun=ks_pseudospectral_reconstruction, \n",
    "                               t_span=[t[0], t[-1]], \n",
    "                               y0=u0, \n",
    "                               method='Radau', \n",
    "                               t_eval=t, \n",
    "                               args=(L,), \n",
    "                               atol=tol, \n",
    "                               rtol=tol)\n",
    "\n"
   ]
  },
  {
   "cell_type": "code",
   "execution_count": 7,
   "metadata": {},
   "outputs": [
    {
     "name": "stdout",
     "output_type": "stream",
     "text": [
      "On interval [0.0, 24.0] \n"
     ]
    }
   ],
   "source": [
    "from torchvision import datasets\n",
    "from tqdm import tqdm\n",
    "\n",
    "L = 25 #64 #128\n",
    "N = 25 #64 #2**7\n",
    "x = np.linspace(0, (1-1.0/N)*L, N)\n",
    "print(f\"On interval [{x.min()}, {x.max()}] \")\n",
    "# Set the tolerance of the solver\n",
    "tol = 1e-6\n",
    "\n",
    "# Set the time sample grid.\n",
    "T = 25 # 100.\n",
    "t = np.linspace(0, T, T)\n",
    "X = to_coords(torch.tensor(x), torch.tensor(t))\n",
    "\n",
    "\n",
    "class RandKS(datasets.VisionDataset): \n",
    "    def __init__(self, *args,  dataseed=0, N=1000, size=(25, 25), max_x_shift=0.5, max_velocity=1., train=True, **kwargs):\n",
    "\n",
    "        super().__init__(*args, **kwargs)\n",
    "        torch.manual_seed(dataseed) \n",
    "        \n",
    "        self.data = torch.zeros((N, 1, size[0], size[1]))\n",
    "        self.data_aug = torch.zeros((N, 1, size[0], size[1]))\n",
    "        #self.params = torch.zeros((N, 3))\n",
    "\n",
    "        with torch.no_grad():  \n",
    "            for idx in tqdm(range(N)): \n",
    "            # TODO: ensure that fixed seed is used\n",
    "                A, phi, l = params() \n",
    "          #      print(A.shape, phi.shape, l.shape)\n",
    "\n",
    "                u0 = initial_conditions(A, phi, l, L)(x[:, None])\n",
    "\n",
    "                sol_example = solve_ivp(fun=ks_pseudospectral_reconstruction, \n",
    "                                   t_span=[t[0], t[-1]], \n",
    "                                   y0=u0, \n",
    "                                   method='Radau', \n",
    "                                   t_eval=t, \n",
    "                                   args=(L,), \n",
    "                                   atol=tol, \n",
    "                                   rtol=tol)\n",
    "                \n",
    "                #self.data[idx] = torch.tensor(sol_example.y.T[::-1].copy())\n",
    "                self.data[idx] = torch.tensor(sol_example.y.T.copy())\n",
    "                \n",
    "                sample = (torch.tensor(sol_example.y.T), X)\n",
    "\n",
    "                sol = SpaceTranslate(max_x_shift=max_x_shift)(sample=sample, shift='fourier')\n",
    "\n",
    "                soln, Xn = sol[0], sol[1]\n",
    "\n",
    "                self.data_aug[idx] = soln # [::-1]\n",
    "         #       self.params[idx] = torch.tensor([A, phi, l])\n",
    "\n",
    "\n",
    "    def __getitem__(self, idx): \n",
    "        return (self.data[idx], self.data_aug[idx]), 1. # TODO: needs param for problem \n",
    "    \n",
    "    def __len__(self): \n",
    "        return len(self.data)     "
   ]
  },
  {
   "cell_type": "code",
   "execution_count": 8,
   "metadata": {},
   "outputs": [],
   "source": [
    "train_loader = torch.load( \"ks_space_train5000.pt\")\n",
    "test_loader = torch.load( \"ks_space_test1000.pt\")\n"
   ]
  },
  {
   "cell_type": "code",
   "execution_count": 9,
   "metadata": {},
   "outputs": [
    {
     "ename": "RuntimeError",
     "evalue": "Caught RuntimeError in DataLoader worker process 0.\nOriginal Traceback (most recent call last):\n  File \"/home/ai/miniconda3/envs/pytorch/lib/python3.9/site-packages/torch/utils/data/_utils/worker.py\", line 308, in _worker_loop\n    data = fetcher.fetch(index)\n  File \"/home/ai/miniconda3/envs/pytorch/lib/python3.9/site-packages/torch/utils/data/_utils/fetch.py\", line 51, in fetch\n    data = [self.dataset[idx] for idx in possibly_batched_index]\n  File \"/home/ai/miniconda3/envs/pytorch/lib/python3.9/site-packages/torch/utils/data/_utils/fetch.py\", line 51, in <listcomp>\n    data = [self.dataset[idx] for idx in possibly_batched_index]\n  File \"/tmp/ipykernel_69857/416868605.py\", line 58, in __getitem__\n    return (self.data[idx], self.data_aug[idx]), 1. # TODO: needs param for problem\nRuntimeError: CUDA error: initialization error\nCUDA kernel errors might be asynchronously reported at some other API call, so the stacktrace below might be incorrect.\nFor debugging consider passing CUDA_LAUNCH_BLOCKING=1.\nCompile with `TORCH_USE_CUDA_DSA` to enable device-side assertions.\n\n",
     "output_type": "error",
     "traceback": [
      "\u001b[0;31m---------------------------------------------------------------------------\u001b[0m",
      "\u001b[0;31mRuntimeError\u001b[0m                              Traceback (most recent call last)",
      "Cell \u001b[0;32mIn[9], line 1\u001b[0m\n\u001b[0;32m----> 1\u001b[0m \u001b[39mnext\u001b[39;49m(\u001b[39miter\u001b[39;49m(train_loader))\n",
      "File \u001b[0;32m~/miniconda3/envs/pytorch/lib/python3.9/site-packages/torch/utils/data/dataloader.py:633\u001b[0m, in \u001b[0;36m_BaseDataLoaderIter.__next__\u001b[0;34m(self)\u001b[0m\n\u001b[1;32m    630\u001b[0m \u001b[39mif\u001b[39;00m \u001b[39mself\u001b[39m\u001b[39m.\u001b[39m_sampler_iter \u001b[39mis\u001b[39;00m \u001b[39mNone\u001b[39;00m:\n\u001b[1;32m    631\u001b[0m     \u001b[39m# TODO(https://github.com/pytorch/pytorch/issues/76750)\u001b[39;00m\n\u001b[1;32m    632\u001b[0m     \u001b[39mself\u001b[39m\u001b[39m.\u001b[39m_reset()  \u001b[39m# type: ignore[call-arg]\u001b[39;00m\n\u001b[0;32m--> 633\u001b[0m data \u001b[39m=\u001b[39m \u001b[39mself\u001b[39;49m\u001b[39m.\u001b[39;49m_next_data()\n\u001b[1;32m    634\u001b[0m \u001b[39mself\u001b[39m\u001b[39m.\u001b[39m_num_yielded \u001b[39m+\u001b[39m\u001b[39m=\u001b[39m \u001b[39m1\u001b[39m\n\u001b[1;32m    635\u001b[0m \u001b[39mif\u001b[39;00m \u001b[39mself\u001b[39m\u001b[39m.\u001b[39m_dataset_kind \u001b[39m==\u001b[39m _DatasetKind\u001b[39m.\u001b[39mIterable \u001b[39mand\u001b[39;00m \\\n\u001b[1;32m    636\u001b[0m         \u001b[39mself\u001b[39m\u001b[39m.\u001b[39m_IterableDataset_len_called \u001b[39mis\u001b[39;00m \u001b[39mnot\u001b[39;00m \u001b[39mNone\u001b[39;00m \u001b[39mand\u001b[39;00m \\\n\u001b[1;32m    637\u001b[0m         \u001b[39mself\u001b[39m\u001b[39m.\u001b[39m_num_yielded \u001b[39m>\u001b[39m \u001b[39mself\u001b[39m\u001b[39m.\u001b[39m_IterableDataset_len_called:\n",
      "File \u001b[0;32m~/miniconda3/envs/pytorch/lib/python3.9/site-packages/torch/utils/data/dataloader.py:1345\u001b[0m, in \u001b[0;36m_MultiProcessingDataLoaderIter._next_data\u001b[0;34m(self)\u001b[0m\n\u001b[1;32m   1343\u001b[0m \u001b[39melse\u001b[39;00m:\n\u001b[1;32m   1344\u001b[0m     \u001b[39mdel\u001b[39;00m \u001b[39mself\u001b[39m\u001b[39m.\u001b[39m_task_info[idx]\n\u001b[0;32m-> 1345\u001b[0m     \u001b[39mreturn\u001b[39;00m \u001b[39mself\u001b[39;49m\u001b[39m.\u001b[39;49m_process_data(data)\n",
      "File \u001b[0;32m~/miniconda3/envs/pytorch/lib/python3.9/site-packages/torch/utils/data/dataloader.py:1371\u001b[0m, in \u001b[0;36m_MultiProcessingDataLoaderIter._process_data\u001b[0;34m(self, data)\u001b[0m\n\u001b[1;32m   1369\u001b[0m \u001b[39mself\u001b[39m\u001b[39m.\u001b[39m_try_put_index()\n\u001b[1;32m   1370\u001b[0m \u001b[39mif\u001b[39;00m \u001b[39misinstance\u001b[39m(data, ExceptionWrapper):\n\u001b[0;32m-> 1371\u001b[0m     data\u001b[39m.\u001b[39;49mreraise()\n\u001b[1;32m   1372\u001b[0m \u001b[39mreturn\u001b[39;00m data\n",
      "File \u001b[0;32m~/miniconda3/envs/pytorch/lib/python3.9/site-packages/torch/_utils.py:644\u001b[0m, in \u001b[0;36mExceptionWrapper.reraise\u001b[0;34m(self)\u001b[0m\n\u001b[1;32m    640\u001b[0m \u001b[39mexcept\u001b[39;00m \u001b[39mTypeError\u001b[39;00m:\n\u001b[1;32m    641\u001b[0m     \u001b[39m# If the exception takes multiple arguments, don't try to\u001b[39;00m\n\u001b[1;32m    642\u001b[0m     \u001b[39m# instantiate since we don't know how to\u001b[39;00m\n\u001b[1;32m    643\u001b[0m     \u001b[39mraise\u001b[39;00m \u001b[39mRuntimeError\u001b[39;00m(msg) \u001b[39mfrom\u001b[39;00m \u001b[39mNone\u001b[39;00m\n\u001b[0;32m--> 644\u001b[0m \u001b[39mraise\u001b[39;00m exception\n",
      "\u001b[0;31mRuntimeError\u001b[0m: Caught RuntimeError in DataLoader worker process 0.\nOriginal Traceback (most recent call last):\n  File \"/home/ai/miniconda3/envs/pytorch/lib/python3.9/site-packages/torch/utils/data/_utils/worker.py\", line 308, in _worker_loop\n    data = fetcher.fetch(index)\n  File \"/home/ai/miniconda3/envs/pytorch/lib/python3.9/site-packages/torch/utils/data/_utils/fetch.py\", line 51, in fetch\n    data = [self.dataset[idx] for idx in possibly_batched_index]\n  File \"/home/ai/miniconda3/envs/pytorch/lib/python3.9/site-packages/torch/utils/data/_utils/fetch.py\", line 51, in <listcomp>\n    data = [self.dataset[idx] for idx in possibly_batched_index]\n  File \"/tmp/ipykernel_69857/416868605.py\", line 58, in __getitem__\n    return (self.data[idx], self.data_aug[idx]), 1. # TODO: needs param for problem\nRuntimeError: CUDA error: initialization error\nCUDA kernel errors might be asynchronously reported at some other API call, so the stacktrace below might be incorrect.\nFor debugging consider passing CUDA_LAUNCH_BLOCKING=1.\nCompile with `TORCH_USE_CUDA_DSA` to enable device-side assertions.\n\n"
     ]
    }
   ],
   "source": [
    "next(iter(train_loader))"
   ]
  }
 ],
 "metadata": {
  "kernelspec": {
   "display_name": "pytorch",
   "language": "python",
   "name": "python3"
  },
  "language_info": {
   "codemirror_mode": {
    "name": "ipython",
    "version": 3
   },
   "file_extension": ".py",
   "mimetype": "text/x-python",
   "name": "python",
   "nbconvert_exporter": "python",
   "pygments_lexer": "ipython3",
   "version": "3.9.16"
  },
  "orig_nbformat": 4
 },
 "nbformat": 4,
 "nbformat_minor": 2
}
